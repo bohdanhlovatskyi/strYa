{
 "cells": [
  {
   "cell_type": "code",
   "execution_count": 1,
   "metadata": {},
   "outputs": [],
   "source": [
    "import numpy as np\n",
    "import plotly.graph_objects as go\n",
    "import meshio"
   ]
  },
  {
   "cell_type": "code",
   "execution_count": 2,
   "metadata": {},
   "outputs": [],
   "source": [
    "import plotly as py\n",
    "from plotly.subplots import make_subplots\n",
    "import plotly.graph_objects as go\n",
    "import numpy as np\n",
    "import pandas as pd\n",
    "from numpy import pi, cos, sin, sqrt\n",
    "import meshio\n",
    "import math\n",
    "import time as t"
   ]
  },
  {
   "cell_type": "code",
   "execution_count": null,
   "metadata": {},
   "outputs": [],
   "source": [
    "\n",
    "\n"
   ]
  },
  {
   "cell_type": "code",
   "execution_count": null,
   "metadata": {},
   "outputs": [],
   "source": []
  },
  {
   "cell_type": "code",
   "execution_count": 3,
   "metadata": {},
   "outputs": [],
   "source": [
    "# Initialize figure with subplots\n",
    "fig = make_subplots(\n",
    "    rows=2, cols=2, subplot_titles=(\"x1 graph\", \"x2 graph\", \"y1 graph\", \"y2 graph\")\n",
    ")"
   ]
  },
  {
   "cell_type": "code",
   "execution_count": 4,
   "metadata": {},
   "outputs": [
    {
     "name": "stdout",
     "output_type": "stream",
     "text": [
      "    human_time  computer_time        x1         y1        z1        x2  \\\n",
      "244          0            0.0  1.541047 -11.415431  0.818528 -0.866363   \n",
      "\n",
      "            y2        z2  \n",
      "244  13.812965 -0.871074  \n"
     ]
    }
   ],
   "source": [
    "#data frame from rounded data file\n",
    "update_file_name = 'angles_steady.csv'\n",
    "df = pd.read_csv(update_file_name)\n",
    "rounded = np.round(df)\n",
    "\n",
    "#find optimal and delete it from data frame\n",
    "optimal = df.tail(1)\n",
    "x1_optimal = optimal['x1'].tolist()[0]\n",
    "y1_optimal = optimal['y1'].tolist()[0]\n",
    "# # print(x_optimal, y_optimal)\n",
    "print(optimal)\n",
    "x2_optimal = optimal['x2'].tolist()[0]\n",
    "y2_optimal = optimal['y2'].tolist()[0]\n",
    "df = df.head(-1)\n",
    "\n",
    "#find all par for graphs\n",
    "time = df['computer_time'].tolist()\n",
    "start_time = time[0]\n",
    "time = [i-start_time for i in time]\n",
    "x1 = df['x1'].tolist()\n",
    "x1 = [i+x1_optimal for i in x1]\n",
    "y1 = df['y1'].tolist()\n",
    "y1 = [i-y1_optimal for i in y1]\n",
    "# z1 = df['z1'].tolist()\n",
    "\n",
    "x2 = df['x2'].tolist()\n",
    "x2 = [i+x2_optimal for i in x2]\n",
    "y2 = df['y2'].tolist()\n",
    "y2 = [i-y2_optimal for i in y2]\n",
    "# z2 = df['z2'].tolist()\n"
   ]
  },
  {
   "cell_type": "code",
   "execution_count": 5,
   "metadata": {},
   "outputs": [],
   "source": [
    "# Add traces\n",
    "fig.add_trace(go.Scatter(x=time, y=x1), row=1, col=1)\n",
    "fig.add_trace(go.Scatter(x=time, y=y1), row=2, col=1)\n",
    "# fig.add_trace(go.Scatter(x=time, y=z1), row=3, col=1)\n",
    "fig.add_trace(go.Scatter(x=time, y=x2), row=1, col=2)\n",
    "fig.add_trace(go.Scatter(x=time, y=y2), row=2, col=2)\n",
    "# fig.add_trace(go.Scatter(x=time, y=z2), row=3, col=2)\n",
    "\n",
    "# Update xaxis properties\n",
    "fig.update_xaxes(title_text=\"time\", row=1, col=1)\n",
    "fig.update_xaxes(title_text=\"time\", row=2, col=1)\n",
    "# fig.update_xaxes(title_text=\"time\", row=3, col=1)\n",
    "fig.update_xaxes(title_text=\"time\", row=1, col=2)\n",
    "fig.update_xaxes(title_text=\"time\", row=2, col=2)\n",
    "# fig.update_xaxes(title_text=\"time\", row=3, col=2)\n",
    "\n",
    "# # Update yaxis properties\n",
    "fig.update_yaxes(title_text=\"x1\", row=1, col=1, range=[-90, 90])\n",
    "fig.update_yaxes(title_text=\"y1\", row=2, col=1, range=[-90, 90])\n",
    "# fig.update_yaxes(title_text=\"z1\", row=3, col=1)\n",
    "fig.update_yaxes(title_text=\"x2\", row=1, col=2, range=[-90, 90])\n",
    "fig.update_yaxes(title_text=\"y2\", row=2, col=2, range=[-90, 90])\n",
    "# fig.update_yaxes(title_text=\"z2\", row=3, col=2)\n",
    "\n",
    "# Update title and height\n",
    "fig.update_layout(title_text=\"Posture position\", height=650)\n",
    "\n",
    "fig.write_html('first_figure.html', auto_open=True)"
   ]
  },
  {
   "cell_type": "code",
   "execution_count": 6,
   "metadata": {},
   "outputs": [],
   "source": [
    "from numpy import pi, cos, sin, sqrt\n",
    "\n",
    "def rotx(t):\n",
    "    return np.array([[1, 0, 0], [0, cos(t), -sin(t)], [0, sin(t), cos(t)]])\n",
    "\n",
    "def roty(t):\n",
    "    return np.array([[cos(t), 0, sin(t)],  [0, 1, 0],[-sin(t), 0, cos(t)]])   \n",
    "    \n",
    "def rotz(t):\n",
    "    return np.array([[cos(t), -sin(t), 0], [sin(t), cos(t), 0], [0, 0, 1]])\n",
    "\n",
    "def rotxyz(z, y, x):\n",
    "    return np.array([[cos(y)*cos(z), -cos(x)*sin(z)+sin(x)*sin(y)*cos(z), sin(x)*sin(z)+cos(x)*sin(y)*cos(z)],\n",
    "                    [cos(y)*sin(z), cos(x)*sin(z)+sin(x)*sin(y)*sin(z), -sin(x)*cos(z)+cos(x)*sin(y)*sin(z)],\n",
    "                    [-sin(y), sin(x)*cos(y), cos(x)*cos(y)]])"
   ]
  },
  {
   "cell_type": "code",
   "execution_count": 7,
   "metadata": {},
   "outputs": [],
   "source": [
    "mesh = meshio.read('airplane.ply', file_format='ply')"
   ]
  },
  {
   "cell_type": "code",
   "execution_count": 8,
   "metadata": {},
   "outputs": [
    {
     "data": {
      "text/plain": [
       "(3, 1335)"
      ]
     },
     "execution_count": 8,
     "metadata": {},
     "output_type": "execute_result"
    }
   ],
   "source": [
    "points = rotz(0).dot(mesh.points.T)\n",
    "points.shape"
   ]
  },
  {
   "cell_type": "code",
   "execution_count": 9,
   "metadata": {},
   "outputs": [
    {
     "data": {
      "text/plain": [
       "array([[ 0.8660254, -0.5      ,  0.       ],\n",
       "       [ 0.5      ,  0.8660254,  0.       ],\n",
       "       [-0.       ,  0.       ,  1.       ]])"
      ]
     },
     "execution_count": 9,
     "metadata": {},
     "output_type": "execute_result"
    }
   ],
   "source": [
    "D = np.array([-1283.45876179,  -431.01578484,    63])\n",
    "x0, y0, z0 = D\n",
    "u1 = np.array([sqrt(3)/2, -0.5, 0 ])\n",
    "u2 = np.array([0.5, sqrt(3)/2, 0])\n",
    "u3 = np.cross(u1, u2)\n",
    "A = np.array([u1,u2,u3]) #T_{B'B}   B'=(u1, u2, u3), A is the matrix of transition from \n",
    "                         #the orthonormal basis, B', to the standard basis in the 3d space\n",
    "A"
   ]
  },
  {
   "cell_type": "code",
   "execution_count": 10,
   "metadata": {},
   "outputs": [],
   "source": [
    "def rotate(points, D, A, phi, rot=rotx):\n",
    "    #points - array of shape (n, 3); they give the initial position of the airplane points\n",
    "    #D - aray of shape (3,), the origin of the linear frae tied to the airplane; D was defined aboeve\n",
    "    # A - array of shape (3, 3);  A = np.array([u1,u2,u3])\n",
    "    # phi - the angle of rotation in radians\n",
    "    # rot - one of the functions rotx, roty, rotz that returns  the rotation matrix of angle phi;\n",
    "    # rotx, roty, roz define respectively: the roll, pitch and yaw motion\n",
    "    \n",
    "    points_n = np.dot(A, (points-D).T) # express the airplane points with respect to the linear frame (D; u1, u2, u3)\n",
    "    p_rotated = rot(phi).dot(points_n) #airplane points rotated and expressed with respect to (D; u1, u2, u3)\n",
    "    return ((A.T).dot(p_rotated)).T  + D   # returns rotated points of shape (n, 3)) and of coords \n",
    "                                           # with respect to the standard linear frame (O; i, j, k)\n",
    "   "
   ]
  },
  {
   "cell_type": "code",
   "execution_count": 11,
   "metadata": {},
   "outputs": [],
   "source": [
    "x, y, z = points\n",
    "I, J, K = mesh.cells[0].data.T"
   ]
  },
  {
   "cell_type": "code",
   "execution_count": 12,
   "metadata": {},
   "outputs": [],
   "source": [
    "gr= [[0, 'rgb(150, 150, 150)'], \n",
    "     [1, 'rgb(150, 150, 150)']]"
   ]
  },
  {
   "cell_type": "code",
   "execution_count": 13,
   "metadata": {},
   "outputs": [],
   "source": [
    "fig = go.Figure(go.Mesh3d(\n",
    "            x=x,\n",
    "            y=y, \n",
    "            z=z, \n",
    "            i=I, \n",
    "            j=J, \n",
    "            k=K, \n",
    "            colorscale=gr,\n",
    "            showscale=False,\n",
    "            intensity=z,\n",
    "            lighting=dict(ambient=0.5,\n",
    "                          diffuse=1,\n",
    "                          fresnel=4,        \n",
    "                          specular=0.5,\n",
    "                          roughness=0.5),\n",
    "            lightposition=dict(x=100,\n",
    "                               y=100,\n",
    "                               z=1000\n",
    "            )))\n",
    "\n",
    "\n",
    "fig.update_layout(title_text='', title_x=0.5, title_y=0.8, \n",
    "                  width=800, height=800,scene_aspectmode='data', \n",
    "                  scene_xaxis_visible=False,  scene_yaxis_visible=False,\n",
    "                  scene_zaxis_visible=False,\n",
    "                  scene_camera_eye=dict(x=1.35,y=1.35, z=0.5));"
   ]
  },
  {
   "cell_type": "code",
   "execution_count": 14,
   "metadata": {},
   "outputs": [
    {
     "name": "stdout",
     "output_type": "stream",
     "text": [
      "[-0.17966286132266496, -0.17926772775513444, -0.0011067715278416657, 0.136074719509665, 0.2529048492154098, 0.3317389000936135, 0.2627722177352201, 0.26896483848896824, -0.02006356507342888, -0.1481318232528035, -0.2742078013911442, -0.1421655418305292, -0.10141027459876728, -0.2216889537221991, -0.5644787329083161, -1.317601107803256, -1.4035777013576443, -1.2335200992327815, -1.1104252067708802, -1.0729293729304925, -0.9614589562411084, -0.8605589872168959, -0.9449568847777248, -0.9701971251393977, -0.9346295933822049, -0.9268888019901076, -0.7909766832562504, -0.8215956887587152, -0.8970344508089014, -0.9938742884075835, -1.123538857395495, -1.1890673315496838, -1.3036379219601426, -1.4211994968680393, -1.445504254771874, -1.3875243025505242, -1.4222190811545175, -1.509987864760724, -1.4460731906874233, -1.3739175483095805, -1.3750188909445296, -1.4206059785874139, -1.256102997436364, -1.1089307605393341, -1.0505591782148165, -1.0349728105382923, -1.057671231635621, -1.058376360231593, -1.2113479100475755, -1.3215630997330359, -1.4396589240860855, -1.4611482131821787, -1.384509381530553, -1.3829850297860693, -1.5354652366293213, -1.7178172445504307, -1.893967246818606, -1.9023327580421339, -1.9500673899344774, -1.7009288390064436, -1.7867740572987527, -1.5958234087704186, -1.605403110768696, -1.662404293539114, -1.714471118170684, -1.6563352824840885, -1.6929120162648164, -1.8145663230287998, -1.8702009871572267, -1.9562006308478073, -2.084446365150124, -2.03031891912282, -1.9490200289450659, -1.9302043364366153, -1.9083989671124773, -1.9220662805633633, -2.019778027685582, -2.104169689646188, -2.139711075968394, -2.220765993579859, -2.233767687100706, -2.321808637339946, -2.3214373302138895, -2.354827693935144, -2.3845555954971975, -2.4354031405490946, -2.489105770394622, -2.5043832609803474, -2.552570243493509, -2.6156701985055957, -2.7376321337800515, -2.657946978914243, -2.5552852158374133, -2.4724997299277236, -2.39637012796029, -2.340454940738897, -2.3909137868942505, -2.425780651493693, -2.3918427912026137, -2.234633771064235, -2.1268165176326126, -2.305919456301346, -2.4831790574921984, -2.5804900320070976, -2.5720867336421938, -2.579916290237014, -2.571235105330455, -2.6050016678251406, -2.56270033901669, -2.5535635543858666, -2.638988844011574, -2.6395548188247098, -2.5979997036765043, -2.5709465355889742, -2.538145757681556, -2.4873583490949276, -2.490609025868747, -2.458719682494449, -2.4386716570286273, -2.4358491914248726, -2.536825141437429, -2.498833340425147, -2.427835305231115, -2.442380454956777, -2.4396640585742455, -2.4061128746043026, -2.3967645627823484, -2.4131942519461327, -2.471539031274051, -2.4496820095820184, -2.427342061918514, -2.4091309634764557, -2.4077918316849796, -2.3685493762901806, -2.3358076845942706, -2.345539535359498, -2.3293140388556175, -2.386126874732141, -2.4799382379980237, -2.509943174702891, -2.4285289244772166, -2.516927587817844, -2.502275683733478, -2.4930831775224913, -2.4510926836494424, -2.560171460858829, -2.661461872790893, -2.6064687209046555, -2.640026098787442, -2.6378916301440425, -2.69999699573178, -2.736498141057485, -2.6668181238745996, -2.6475817322312167, -2.6239849000902344, -2.7152467103909323, -2.7876231900680697, -2.668807240567194, -2.5864253357118097, -2.690778555502723, -2.7666021013804496, -2.8698649714251685, -2.9371544596853623, -2.906003064736913, -2.850881360082181, -2.7804762425301837, -2.8394838976598837, -2.9365956752197517, -2.932966218390958, -2.9164987048846056, -2.8814786633062823, -2.8569248980265964, -2.7229622582431023, -2.5804097088445896, -2.5164015814139695, -2.5939260672732907, -2.6938510466498125, -2.9835223717664974, -3.0516291242845526, -3.149638924865135, -3.2400845481056626, -3.2811231102459617, -3.327086747706484, -3.4058569438509005, -3.5352600421063487, -3.6142807326094646, -3.6002510237667478, -3.6387018025817426, -3.7171443617149027, -3.7740869623418067, -3.8716227074614125, -3.9886779099758556, -3.980617725481025, -4.00615979316995, -4.098052734670184, -4.156741732308232, -4.095542225889878, -4.065143027368461, -4.11704970783213, -4.127831701385796, -4.2037200591736905, -4.224738775779838, -4.234146143554776, -4.219678186515055, -4.170727789542959, -4.003941541687139, -4.010983226491633, -4.019592036830623, -4.085414065853556, -4.140578215351517, -4.16897690497129, -4.148855232580715, -4.275215263880503, -4.261446099589112, -4.390424731161876, -4.464813435085744, -4.481529162592652, -4.581061149954276, -4.454111660196853, -4.502870434968368, -4.51087558173982, -4.408536662075943, -4.337122291702296, -4.199710989067828, -4.189865574638375, -4.338345626834469, -4.454539175045106, -4.522827579078569, -4.569633635457629, -4.4802094575334745, -4.449767731497508, -4.58132406162238, -4.666271000306899, -4.768610983482461, -4.802277225612048, -4.866036733369283, -4.863449039339885, -4.759575680479057, -4.693294252368283, -4.614402301500839, -4.6116218813679355, -4.732891972844913, -4.775948228174724, -4.86122188379562]\n"
     ]
    }
   ],
   "source": [
    "# ty = np.linspace(0, 2*pi/9, 24) #ty[k] successive angles of yaw rotation\n",
    "# print(ty)\n",
    "# # tr = np.linspace(0, 7*pi/36, 20) # tr[k] successive angles of pitch rotation\n",
    "tr = y1\n",
    "\n",
    "print(x1)\n",
    "# x_angle = [math.radians(i) for i in y1]\n",
    "# y_angle = [math.radians(i) for i in x1]\n",
    "x_angle = y1\n",
    "y_angle = x1\n",
    "\n",
    "frames=[]\n",
    "# for k in range(len(ty)):\n",
    "#     x, y, z = rotate(points.T, D, A,  ty[k], rot=rotz).T\n",
    "#     frames.append(go.Frame(data=[go.Mesh3d(x=x,y=y,z=z)],\n",
    "#                            layout=dict(title_text='Yaw motion'),\n",
    "#                            traces=[0]))\n",
    "\n",
    "for k in range(len(tr)): \n",
    "    x, y, z = rotate(points.T, D, A,  tr[k], rot=rotx).T \n",
    "    frames.append(go.Frame(data=[go.Mesh3d(x=x,y=y,z=z)],\n",
    "                           layout=dict(title_text='Pitch motion'),\n",
    "                           traces=[0]))\n",
    "\n",
    "# for i in range(len(x_angle)): \n",
    "#     x, y, z = rotate(points.T, D, A, 0, y_angle[i], x_angle[i], rot=rotxyz).T \n",
    "#     frames.append(go.Frame(data=[go.Mesh3d(x=x,y=y,z=z)],\n",
    "#                            layout=dict(title_text='Pitch motion'),\n",
    "#                            traces=[0]))\n",
    "# print(x_angle)\n",
    "# print(y_angle)\n",
    "# for i in range(len(x_angle)): \n",
    "#     x, y, z = rotate(points.T, D, A, x_angle[i], rot=rotx).T \n",
    "#     frames.append(go.Frame(data=[go.Mesh3d(x=x,y=y,z=z)],\n",
    "#                            layout=dict(title_text='Pitch motion'),\n",
    "#                            traces=[0]))"
   ]
  },
  {
   "cell_type": "code",
   "execution_count": null,
   "metadata": {},
   "outputs": [],
   "source": []
  },
  {
   "cell_type": "code",
   "execution_count": 15,
   "metadata": {},
   "outputs": [],
   "source": [
    "fig.update_layout(updatemenus=[dict(type='buttons',\n",
    "                                  showactive=False,\n",
    "                                  y=0.1,\n",
    "                                  x=1.05,\n",
    "                                  xanchor='left',\n",
    "                                  yanchor='top',\n",
    "                                  #pad=dict(t=1),\n",
    "                                  buttons=[dict(label='Play',\n",
    "                                                method='animate',\n",
    "                                                args=[None, dict(frame=dict(duration=50, redraw=True), \n",
    "                                                                 transition_duration=0,\n",
    "                                                                 fromcurrent=True,\n",
    "                                                                 mode='immediate'\n",
    "                                                                 )])\n",
    "                                          ]\n",
    "                                  )])   \n",
    "fig.update(frames=frames);"
   ]
  },
  {
   "cell_type": "code",
   "execution_count": null,
   "metadata": {},
   "outputs": [],
   "source": []
  },
  {
   "cell_type": "code",
   "execution_count": 16,
   "metadata": {},
   "outputs": [],
   "source": [
    "import chart_studio.plotly as py\n",
    "fig.write_html('yaw-roll-motion.html', auto_open=True)"
   ]
  },
  {
   "cell_type": "code",
   "execution_count": null,
   "metadata": {},
   "outputs": [],
   "source": []
  },
  {
   "cell_type": "code",
   "execution_count": null,
   "metadata": {},
   "outputs": [],
   "source": []
  }
 ],
 "metadata": {
  "kernelspec": {
   "display_name": "Python 3",
   "language": "python",
   "name": "python3"
  },
  "language_info": {
   "codemirror_mode": {
    "name": "ipython",
    "version": 3
   },
   "file_extension": ".py",
   "mimetype": "text/x-python",
   "name": "python",
   "nbconvert_exporter": "python",
   "pygments_lexer": "ipython3",
   "version": "3.8.5"
  }
 },
 "nbformat": 4,
 "nbformat_minor": 4
}
