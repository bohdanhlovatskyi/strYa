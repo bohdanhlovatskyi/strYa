{
 "cells": [
  {
   "cell_type": "code",
   "execution_count": 1,
   "metadata": {},
   "outputs": [],
   "source": [
    "import numpy as np\n",
    "import plotly.graph_objects as go\n",
    "import meshio"
   ]
  },
  {
   "cell_type": "code",
   "execution_count": 2,
   "metadata": {},
   "outputs": [],
   "source": [
    "import plotly as py\n",
    "from plotly.subplots import make_subplots\n",
    "import plotly.graph_objects as go\n",
    "import numpy as np\n",
    "import pandas as pd\n",
    "from numpy import pi, cos, sin, sqrt\n",
    "import meshio\n",
    "import math\n",
    "import time as t"
   ]
  },
  {
   "cell_type": "code",
   "execution_count": 3,
   "metadata": {},
   "outputs": [],
   "source": [
    "#data frame from rounded data file\n",
    "df = pd.read_csv('new_datasets\\\\1angles_try.csv')\n",
    "a0 = df['0'].tolist()\n",
    "a1 = df['1'].tolist()\n",
    "a2 = df['2'].tolist()\n",
    "a3 = df['3'].tolist()\n",
    "a4 = df['4'].tolist()\n",
    "a5 = df['5'].tolist()\n",
    "a6 = df['6'].tolist()\n",
    "a7 = df['7'].tolist()\n",
    "a8 = df['8'].tolist()"
   ]
  },
  {
   "cell_type": "code",
   "execution_count": 4,
   "metadata": {},
   "outputs": [],
   "source": [
    "mesh = meshio.read('airplane.ply', file_format='ply')"
   ]
  },
  {
   "cell_type": "code",
   "execution_count": 6,
   "metadata": {},
   "outputs": [
    {
     "data": {
      "text/plain": [
       "(3, 1335)"
      ]
     },
     "execution_count": 6,
     "metadata": {},
     "output_type": "execute_result"
    }
   ],
   "source": [
    "def rotz(t):\n",
    "    return np.array([[cos(t), -sin(t), 0], [sin(t), cos(t), 0], [0, 0, 1]])\n",
    "points = rotz(5*pi/6).dot(mesh.points.T)\n",
    "points.shape"
   ]
  },
  {
   "cell_type": "code",
   "execution_count": 7,
   "metadata": {},
   "outputs": [
    {
     "data": {
      "text/plain": [
       "array([[ 0.8660254, -0.5      ,  0.       ],\n",
       "       [ 0.5      ,  0.8660254,  0.       ],\n",
       "       [-0.       ,  0.       ,  1.       ]])"
      ]
     },
     "execution_count": 7,
     "metadata": {},
     "output_type": "execute_result"
    }
   ],
   "source": [
    "D = np.array([-1283.45876179,  -431.01578484,    63])\n",
    "x0, y0, z0 = D\n",
    "u1 = np.array([sqrt(3)/2, -0.5, 0 ])\n",
    "u2 = np.array([0.5, sqrt(3)/2, 0])\n",
    "u3 = np.cross(u1, u2)\n",
    "A = np.array([u1,u2,u3]) #T_{B'B}   B'=(u1, u2, u3), A is the matrix of transition from \n",
    "                         #the orthonormal basis, B', to the standard basis in the 3d space\n",
    "A"
   ]
  },
  {
   "cell_type": "code",
   "execution_count": 8,
   "metadata": {},
   "outputs": [],
   "source": [
    "frames=[]\n",
    "for i in range(len(a0)):\n",
    "    frames.append(np.array([[a0[i], a1[i], a2[i]], [a3[i], a4[i], a5[i]], [a6[i], a7[i], a8[i]]]))"
   ]
  },
  {
   "cell_type": "code",
   "execution_count": 9,
   "metadata": {},
   "outputs": [],
   "source": [
    "x, y, z = points\n",
    "I, J, K = mesh.cells[0].data.T"
   ]
  },
  {
   "cell_type": "code",
   "execution_count": 10,
   "metadata": {},
   "outputs": [],
   "source": [
    "gr= [[0, 'rgb(150, 150, 150)'], \n",
    "     [1, 'rgb(150, 150, 150)']]"
   ]
  },
  {
   "cell_type": "code",
   "execution_count": 11,
   "metadata": {},
   "outputs": [],
   "source": [
    "fig = go.Figure(go.Mesh3d(\n",
    "            x=x,\n",
    "            y=y, \n",
    "            z=z, \n",
    "            i=I, \n",
    "            j=J, \n",
    "            k=K, \n",
    "            colorscale=gr,\n",
    "            showscale=False,\n",
    "            intensity=z,\n",
    "            lighting=dict(ambient=0.5,\n",
    "                          diffuse=1,\n",
    "                          fresnel=4,        \n",
    "                          specular=0.5,\n",
    "                          roughness=0.5),\n",
    "            lightposition=dict(x=100,\n",
    "                               y=100,\n",
    "                               z=1000\n",
    "            )))\n",
    "\n",
    "\n",
    "fig.update_layout(title_text='', title_x=0.5, title_y=0.8, \n",
    "                  width=800, height=800,scene_aspectmode='data', \n",
    "                  scene_xaxis_visible=False,  scene_yaxis_visible=False,\n",
    "                  scene_zaxis_visible=False,\n",
    "                  scene_camera_eye=dict(x=1.35,y=1.35, z=0.5));"
   ]
  },
  {
   "cell_type": "code",
   "execution_count": 12,
   "metadata": {},
   "outputs": [
    {
     "ename": "ValueError",
     "evalue": "\n    Invalid element(s) received for the 'frames' property of \n        Invalid elements include: [array([[ 0.99792698,  0.06366256, -0.00942498],\n       [ 0.06386878, -0.99768179,  0.02349084],\n       [-0.00790764, -0.02404411, -0.99967962]]), array([[ 0.99781677,  0.0651073 , -0.01107873],\n       [ 0.06535438, -0.99758224,  0.0236321 ],\n       [-0.00951332, -0.02430455, -0.99965933]]), array([[ 0.99774853,  0.06602429, -0.01177556],\n       [ 0.06629019, -0.99751567,  0.02383493],\n       [-0.01017262, -0.02456187, -0.99964655]]), array([[ 0.9978393 ,  0.06507285, -0.00906983],\n       [ 0.06527413, -0.99757829,  0.02401751],\n       [-0.00748498, -0.02455765, -0.99967039]]), array([[ 0.99789321,  0.06431575, -0.00852231],\n       [ 0.06451875, -0.99757283,  0.02618751],\n       [-0.00681735, -0.02668219, -0.99962072]]), array([[ 0.99789505,  0.06421077, -0.00908011],\n       [ 0.06444498, -0.99751664,  0.02841482],\n       [-0.00723302, -0.02894017, -0.99955498]]), array([[ 0.99777663,  0.06587352, -0.01012273],\n       [ 0.06613881, -0.99740057,  0.02859654],\n       [-0.00821266, -0.02920247, -0.99953978]]), array([[ 0.99784554,  0.06451835, -0.01190183],\n       [ 0.06485761, -0.99742074,  0.03074654],\n       [-0.00988742, -0.03145222, -0.99945635]]), array([[ 0.99792518,  0.06365855, -0.00963954],\n       [ 0.06394452, -0.99740674,  0.03302876],\n       [-0.00751198, -0.03357663, -0.99940791]]), array([[ 0.99798005,  0.06287789, -0.00906637],\n       [ 0.06314624, -0.99745188,  0.03320104],\n       [-0.00695565, -0.03370649, -0.99940757]])]\n\n    The 'frames' property is a tuple of instances of\n    Frame that may be specified as:\n      - A list or tuple of instances of plotly.graph_objs.Frame\n      - A list or tuple of dicts of string/value properties that\n        will be passed to the Frame constructor\n\n        Supported dict properties:\n            \n            baseframe\n                The name of the frame into which this frame's\n                properties are merged before applying. This is\n                used to unify properties and avoid needing to\n                specify the same values for the same properties\n                in multiple frames.\n            data\n                A list of traces this frame modifies. The\n                format is identical to the normal trace\n                definition.\n            group\n                An identifier that specifies the group to which\n                the frame belongs, used by animate to select a\n                subset of frames.\n            layout\n                Layout properties which this frame modifies.\n                The format is identical to the normal layout\n                definition.\n            name\n                A label by which to identify the frame\n            traces\n                A list of trace indices that identify the\n                respective traces in the data attribute\n",
     "output_type": "error",
     "traceback": [
      "\u001b[1;31m---------------------------------------------------------------------------\u001b[0m",
      "\u001b[1;31mValueError\u001b[0m                                Traceback (most recent call last)",
      "\u001b[1;32m<ipython-input-12-1578aaa12336>\u001b[0m in \u001b[0;36m<module>\u001b[1;34m\u001b[0m\n\u001b[0;32m     15\u001b[0m                                           ]\n\u001b[0;32m     16\u001b[0m                                   )])   \n\u001b[1;32m---> 17\u001b[1;33m \u001b[0mfig\u001b[0m\u001b[1;33m.\u001b[0m\u001b[0mupdate\u001b[0m\u001b[1;33m(\u001b[0m\u001b[0mframes\u001b[0m\u001b[1;33m=\u001b[0m\u001b[0mframes\u001b[0m\u001b[1;33m)\u001b[0m\u001b[1;33m;\u001b[0m\u001b[1;33m\u001b[0m\u001b[1;33m\u001b[0m\u001b[0m\n\u001b[0m",
      "\u001b[1;32mc:\\users\\admin\\appdata\\local\\programs\\python\\python38\\lib\\site-packages\\plotly\\basedatatypes.py\u001b[0m in \u001b[0;36mupdate\u001b[1;34m(self, dict1, overwrite, **kwargs)\u001b[0m\n\u001b[0;32m    906\u001b[0m                             \u001b[1;32melse\u001b[0m\u001b[1;33m:\u001b[0m\u001b[1;33m\u001b[0m\u001b[1;33m\u001b[0m\u001b[0m\n\u001b[0;32m    907\u001b[0m                                 \u001b[1;31m# Accept v\u001b[0m\u001b[1;33m\u001b[0m\u001b[1;33m\u001b[0m\u001b[1;33m\u001b[0m\u001b[0m\n\u001b[1;32m--> 908\u001b[1;33m                                 \u001b[0mself\u001b[0m\u001b[1;33m[\u001b[0m\u001b[0mk\u001b[0m\u001b[1;33m]\u001b[0m \u001b[1;33m=\u001b[0m \u001b[0mv\u001b[0m\u001b[1;33m\u001b[0m\u001b[1;33m\u001b[0m\u001b[0m\n\u001b[0m\u001b[0;32m    909\u001b[0m                         elif (\n\u001b[0;32m    910\u001b[0m                             \u001b[0misinstance\u001b[0m\u001b[1;33m(\u001b[0m\u001b[0mupdate_target\u001b[0m\u001b[1;33m,\u001b[0m \u001b[0mBasePlotlyType\u001b[0m\u001b[1;33m)\u001b[0m\u001b[1;33m\u001b[0m\u001b[1;33m\u001b[0m\u001b[0m\n",
      "\u001b[1;32mc:\\users\\admin\\appdata\\local\\programs\\python\\python38\\lib\\site-packages\\plotly\\basedatatypes.py\u001b[0m in \u001b[0;36m__setitem__\u001b[1;34m(self, prop, value)\u001b[0m\n\u001b[0;32m    686\u001b[0m                 \u001b[0mself\u001b[0m\u001b[1;33m.\u001b[0m\u001b[0mlayout\u001b[0m \u001b[1;33m=\u001b[0m \u001b[0mvalue\u001b[0m\u001b[1;33m\u001b[0m\u001b[1;33m\u001b[0m\u001b[0m\n\u001b[0;32m    687\u001b[0m             \u001b[1;32melif\u001b[0m \u001b[0mprop\u001b[0m \u001b[1;33m==\u001b[0m \u001b[1;34m\"frames\"\u001b[0m\u001b[1;33m:\u001b[0m\u001b[1;33m\u001b[0m\u001b[1;33m\u001b[0m\u001b[0m\n\u001b[1;32m--> 688\u001b[1;33m                 \u001b[0mself\u001b[0m\u001b[1;33m.\u001b[0m\u001b[0mframes\u001b[0m \u001b[1;33m=\u001b[0m \u001b[0mvalue\u001b[0m\u001b[1;33m\u001b[0m\u001b[1;33m\u001b[0m\u001b[0m\n\u001b[0m\u001b[0;32m    689\u001b[0m             \u001b[1;32melse\u001b[0m\u001b[1;33m:\u001b[0m\u001b[1;33m\u001b[0m\u001b[1;33m\u001b[0m\u001b[0m\n\u001b[0;32m    690\u001b[0m                 \u001b[1;32mraise\u001b[0m \u001b[0mKeyError\u001b[0m\u001b[1;33m(\u001b[0m\u001b[0mprop\u001b[0m\u001b[1;33m)\u001b[0m\u001b[1;33m\u001b[0m\u001b[1;33m\u001b[0m\u001b[0m\n",
      "\u001b[1;32mc:\\users\\admin\\appdata\\local\\programs\\python\\python38\\lib\\site-packages\\plotly\\basedatatypes.py\u001b[0m in \u001b[0;36m__setattr__\u001b[1;34m(self, prop, value)\u001b[0m\n\u001b[0;32m    719\u001b[0m         \u001b[1;32mif\u001b[0m \u001b[0mprop\u001b[0m\u001b[1;33m.\u001b[0m\u001b[0mstartswith\u001b[0m\u001b[1;33m(\u001b[0m\u001b[1;34m\"_\"\u001b[0m\u001b[1;33m)\u001b[0m \u001b[1;32mor\u001b[0m \u001b[0mhasattr\u001b[0m\u001b[1;33m(\u001b[0m\u001b[0mself\u001b[0m\u001b[1;33m,\u001b[0m \u001b[0mprop\u001b[0m\u001b[1;33m)\u001b[0m\u001b[1;33m:\u001b[0m\u001b[1;33m\u001b[0m\u001b[1;33m\u001b[0m\u001b[0m\n\u001b[0;32m    720\u001b[0m             \u001b[1;31m# Let known properties and private properties through\u001b[0m\u001b[1;33m\u001b[0m\u001b[1;33m\u001b[0m\u001b[1;33m\u001b[0m\u001b[0m\n\u001b[1;32m--> 721\u001b[1;33m             \u001b[0msuper\u001b[0m\u001b[1;33m(\u001b[0m\u001b[0mBaseFigure\u001b[0m\u001b[1;33m,\u001b[0m \u001b[0mself\u001b[0m\u001b[1;33m)\u001b[0m\u001b[1;33m.\u001b[0m\u001b[0m__setattr__\u001b[0m\u001b[1;33m(\u001b[0m\u001b[0mprop\u001b[0m\u001b[1;33m,\u001b[0m \u001b[0mvalue\u001b[0m\u001b[1;33m)\u001b[0m\u001b[1;33m\u001b[0m\u001b[1;33m\u001b[0m\u001b[0m\n\u001b[0m\u001b[0;32m    722\u001b[0m         \u001b[1;32melse\u001b[0m\u001b[1;33m:\u001b[0m\u001b[1;33m\u001b[0m\u001b[1;33m\u001b[0m\u001b[0m\n\u001b[0;32m    723\u001b[0m             \u001b[1;31m# Raise error on unknown public properties\u001b[0m\u001b[1;33m\u001b[0m\u001b[1;33m\u001b[0m\u001b[1;33m\u001b[0m\u001b[0m\n",
      "\u001b[1;32mc:\\users\\admin\\appdata\\local\\programs\\python\\python38\\lib\\site-packages\\plotly\\basedatatypes.py\u001b[0m in \u001b[0;36mframes\u001b[1;34m(self, new_frames)\u001b[0m\n\u001b[0;32m   2853\u001b[0m \u001b[1;33m\u001b[0m\u001b[0m\n\u001b[0;32m   2854\u001b[0m         \u001b[1;31m# Validate frames\u001b[0m\u001b[1;33m\u001b[0m\u001b[1;33m\u001b[0m\u001b[1;33m\u001b[0m\u001b[0m\n\u001b[1;32m-> 2855\u001b[1;33m         \u001b[0mself\u001b[0m\u001b[1;33m.\u001b[0m\u001b[0m_frame_objs\u001b[0m \u001b[1;33m=\u001b[0m \u001b[0mself\u001b[0m\u001b[1;33m.\u001b[0m\u001b[0m_frames_validator\u001b[0m\u001b[1;33m.\u001b[0m\u001b[0mvalidate_coerce\u001b[0m\u001b[1;33m(\u001b[0m\u001b[0mnew_frames\u001b[0m\u001b[1;33m)\u001b[0m\u001b[1;33m\u001b[0m\u001b[1;33m\u001b[0m\u001b[0m\n\u001b[0m\u001b[0;32m   2856\u001b[0m \u001b[1;33m\u001b[0m\u001b[0m\n\u001b[0;32m   2857\u001b[0m     \u001b[1;31m# Update\u001b[0m\u001b[1;33m\u001b[0m\u001b[1;33m\u001b[0m\u001b[1;33m\u001b[0m\u001b[0m\n",
      "\u001b[1;32mc:\\users\\admin\\appdata\\local\\programs\\python\\python38\\lib\\site-packages\\_plotly_utils\\basevalidators.py\u001b[0m in \u001b[0;36mvalidate_coerce\u001b[1;34m(self, v, skip_invalid)\u001b[0m\n\u001b[0;32m   2549\u001b[0m \u001b[1;33m\u001b[0m\u001b[0m\n\u001b[0;32m   2550\u001b[0m             \u001b[1;32mif\u001b[0m \u001b[0minvalid_els\u001b[0m\u001b[1;33m:\u001b[0m\u001b[1;33m\u001b[0m\u001b[1;33m\u001b[0m\u001b[0m\n\u001b[1;32m-> 2551\u001b[1;33m                 \u001b[0mself\u001b[0m\u001b[1;33m.\u001b[0m\u001b[0mraise_invalid_elements\u001b[0m\u001b[1;33m(\u001b[0m\u001b[0minvalid_els\u001b[0m\u001b[1;33m)\u001b[0m\u001b[1;33m\u001b[0m\u001b[1;33m\u001b[0m\u001b[0m\n\u001b[0m\u001b[0;32m   2552\u001b[0m \u001b[1;33m\u001b[0m\u001b[0m\n\u001b[0;32m   2553\u001b[0m             \u001b[0mv\u001b[0m \u001b[1;33m=\u001b[0m \u001b[0mto_scalar_or_list\u001b[0m\u001b[1;33m(\u001b[0m\u001b[0mres\u001b[0m\u001b[1;33m)\u001b[0m\u001b[1;33m\u001b[0m\u001b[1;33m\u001b[0m\u001b[0m\n",
      "\u001b[1;32mc:\\users\\admin\\appdata\\local\\programs\\python\\python38\\lib\\site-packages\\_plotly_utils\\basevalidators.py\u001b[0m in \u001b[0;36mraise_invalid_elements\u001b[1;34m(self, invalid_els)\u001b[0m\n\u001b[0;32m    291\u001b[0m     \u001b[1;32mdef\u001b[0m \u001b[0mraise_invalid_elements\u001b[0m\u001b[1;33m(\u001b[0m\u001b[0mself\u001b[0m\u001b[1;33m,\u001b[0m \u001b[0minvalid_els\u001b[0m\u001b[1;33m)\u001b[0m\u001b[1;33m:\u001b[0m\u001b[1;33m\u001b[0m\u001b[1;33m\u001b[0m\u001b[0m\n\u001b[0;32m    292\u001b[0m         \u001b[1;32mif\u001b[0m \u001b[0minvalid_els\u001b[0m\u001b[1;33m:\u001b[0m\u001b[1;33m\u001b[0m\u001b[1;33m\u001b[0m\u001b[0m\n\u001b[1;32m--> 293\u001b[1;33m             raise ValueError(\n\u001b[0m\u001b[0;32m    294\u001b[0m                 \"\"\"\n\u001b[0;32m    295\u001b[0m     \u001b[0mInvalid\u001b[0m \u001b[0melement\u001b[0m\u001b[1;33m(\u001b[0m\u001b[0ms\u001b[0m\u001b[1;33m)\u001b[0m \u001b[0mreceived\u001b[0m \u001b[1;32mfor\u001b[0m \u001b[0mthe\u001b[0m \u001b[1;34m'{name}'\u001b[0m \u001b[0mproperty\u001b[0m \u001b[0mof\u001b[0m \u001b[1;33m{\u001b[0m\u001b[0mpname\u001b[0m\u001b[1;33m}\u001b[0m\u001b[1;33m\u001b[0m\u001b[1;33m\u001b[0m\u001b[0m\n",
      "\u001b[1;31mValueError\u001b[0m: \n    Invalid element(s) received for the 'frames' property of \n        Invalid elements include: [array([[ 0.99792698,  0.06366256, -0.00942498],\n       [ 0.06386878, -0.99768179,  0.02349084],\n       [-0.00790764, -0.02404411, -0.99967962]]), array([[ 0.99781677,  0.0651073 , -0.01107873],\n       [ 0.06535438, -0.99758224,  0.0236321 ],\n       [-0.00951332, -0.02430455, -0.99965933]]), array([[ 0.99774853,  0.06602429, -0.01177556],\n       [ 0.06629019, -0.99751567,  0.02383493],\n       [-0.01017262, -0.02456187, -0.99964655]]), array([[ 0.9978393 ,  0.06507285, -0.00906983],\n       [ 0.06527413, -0.99757829,  0.02401751],\n       [-0.00748498, -0.02455765, -0.99967039]]), array([[ 0.99789321,  0.06431575, -0.00852231],\n       [ 0.06451875, -0.99757283,  0.02618751],\n       [-0.00681735, -0.02668219, -0.99962072]]), array([[ 0.99789505,  0.06421077, -0.00908011],\n       [ 0.06444498, -0.99751664,  0.02841482],\n       [-0.00723302, -0.02894017, -0.99955498]]), array([[ 0.99777663,  0.06587352, -0.01012273],\n       [ 0.06613881, -0.99740057,  0.02859654],\n       [-0.00821266, -0.02920247, -0.99953978]]), array([[ 0.99784554,  0.06451835, -0.01190183],\n       [ 0.06485761, -0.99742074,  0.03074654],\n       [-0.00988742, -0.03145222, -0.99945635]]), array([[ 0.99792518,  0.06365855, -0.00963954],\n       [ 0.06394452, -0.99740674,  0.03302876],\n       [-0.00751198, -0.03357663, -0.99940791]]), array([[ 0.99798005,  0.06287789, -0.00906637],\n       [ 0.06314624, -0.99745188,  0.03320104],\n       [-0.00695565, -0.03370649, -0.99940757]])]\n\n    The 'frames' property is a tuple of instances of\n    Frame that may be specified as:\n      - A list or tuple of instances of plotly.graph_objs.Frame\n      - A list or tuple of dicts of string/value properties that\n        will be passed to the Frame constructor\n\n        Supported dict properties:\n            \n            baseframe\n                The name of the frame into which this frame's\n                properties are merged before applying. This is\n                used to unify properties and avoid needing to\n                specify the same values for the same properties\n                in multiple frames.\n            data\n                A list of traces this frame modifies. The\n                format is identical to the normal trace\n                definition.\n            group\n                An identifier that specifies the group to which\n                the frame belongs, used by animate to select a\n                subset of frames.\n            layout\n                Layout properties which this frame modifies.\n                The format is identical to the normal layout\n                definition.\n            name\n                A label by which to identify the frame\n            traces\n                A list of trace indices that identify the\n                respective traces in the data attribute\n"
     ]
    }
   ],
   "source": [
    "fig.update_layout(updatemenus=[dict(type='buttons',\n",
    "                                  showactive=False,\n",
    "                                  y=0.1,\n",
    "                                  x=1.05,\n",
    "                                  xanchor='left',\n",
    "                                  yanchor='top',\n",
    "                                  #pad=dict(t=1),\n",
    "                                  buttons=[dict(label='Play',\n",
    "                                                method='animate',\n",
    "                                                args=[None, dict(frame=dict(duration=50, redraw=True), \n",
    "                                                                 transition_duration=0,\n",
    "                                                                 fromcurrent=True,\n",
    "                                                                 mode='immediate'\n",
    "                                                                 )])\n",
    "                                          ]\n",
    "                                  )])   \n",
    "fig.update(frames=frames);"
   ]
  },
  {
   "cell_type": "code",
   "execution_count": null,
   "metadata": {},
   "outputs": [],
   "source": [
    "import chart_studio.plotly as py\n",
    "fig.write_html('yaw-roll-motion.html', auto_open=True)"
   ]
  }
 ],
 "metadata": {
  "kernelspec": {
   "display_name": "Python 3",
   "language": "python",
   "name": "python3"
  },
  "language_info": {
   "codemirror_mode": {
    "name": "ipython",
    "version": 3
   },
   "file_extension": ".py",
   "mimetype": "text/x-python",
   "name": "python",
   "nbconvert_exporter": "python",
   "pygments_lexer": "ipython3",
   "version": "3.8.5"
  }
 },
 "nbformat": 4,
 "nbformat_minor": 4
}
