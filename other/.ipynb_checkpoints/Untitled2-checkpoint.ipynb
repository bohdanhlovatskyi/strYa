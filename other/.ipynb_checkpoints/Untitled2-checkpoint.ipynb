{
 "cells": [
  {
   "cell_type": "code",
   "execution_count": null,
   "metadata": {},
   "outputs": [],
   "source": [
    "import numpy as np\n",
    "import plotly.graph_objects as go\n",
    "import meshio"
   ]
  },
  {
   "cell_type": "code",
   "execution_count": null,
   "metadata": {},
   "outputs": [],
   "source": [
    "import plotly as py\n",
    "from plotly.subplots import make_subplots\n",
    "import plotly.graph_objects as go\n",
    "import numpy as np\n",
    "import pandas as pd\n",
    "from numpy import pi, cos, sin, sqrt\n",
    "import meshio\n",
    "import math\n",
    "import time as t"
   ]
  },
  {
   "cell_type": "code",
   "execution_count": null,
   "metadata": {},
   "outputs": [],
   "source": [
    "mesh = meshio.read('airplane.ply', file_format='ply')"
   ]
  },
  {
   "cell_type": "code",
   "execution_count": null,
   "metadata": {},
   "outputs": [],
   "source": [
    "points = rotz(5*pi/6).dot(mesh.points.T)\n",
    "points.shape"
   ]
  },
  {
   "cell_type": "code",
   "execution_count": null,
   "metadata": {},
   "outputs": [],
   "source": [
    "D = np.array([-1283.45876179,  -431.01578484,    63])\n",
    "x0, y0, z0 = D\n",
    "u1 = np.array([sqrt(3)/2, -0.5, 0 ])\n",
    "u2 = np.array([0.5, sqrt(3)/2, 0])\n",
    "u3 = np.cross(u1, u2)\n",
    "A = np.array([u1,u2,u3]) #T_{B'B}   B'=(u1, u2, u3), A is the matrix of transition from \n",
    "                         #the orthonormal basis, B', to the standard basis in the 3d space\n",
    "A"
   ]
  },
  {
   "cell_type": "code",
   "execution_count": null,
   "metadata": {},
   "outputs": [],
   "source": [
    "def rotate(points, D, A, x, rot=rotx):\n",
    "    #points - array of shape (n, 3); they give the initial position of the airplane points\n",
    "    #D - aray of shape (3,), the origin of the linear frae tied to the airplane; D was defined aboeve\n",
    "    # A - array of shape (3, 3);  A = np.array([u1,u2,u3])\n",
    "    # phi - the angle of rotation in radians\n",
    "    # rot - one of the functions rotx, roty, rotz that returns  the rotation matrix of angle phi;\n",
    "    # rotx, roty, roz define respectively: the roll, pitch and yaw motion\n",
    "    \n",
    "    points_n = np.dot(A, (points-D).T) # express the airplane points with respect to the linear frame (D; u1, u2, u3)\n",
    "    p_rotated = np.array([a0, a1, a2], [b0, b1, b2], [c0, c1, c2]) #airplane points rotated and expressed with respect to (D; u1, u2, u3)\n",
    "    return ((A.T).dot(p_rotated)).T  + D   # returns rotated points of shape (n, 3)) and of coords \n",
    "                                           # with respect to the standard linear frame (O; i, j, k)"
   ]
  }
 ],
 "metadata": {
  "kernelspec": {
   "display_name": "Python 3",
   "language": "python",
   "name": "python3"
  },
  "language_info": {
   "codemirror_mode": {
    "name": "ipython",
    "version": 3
   },
   "file_extension": ".py",
   "mimetype": "text/x-python",
   "name": "python",
   "nbconvert_exporter": "python",
   "pygments_lexer": "ipython3",
   "version": "3.8.5"
  }
 },
 "nbformat": 4,
 "nbformat_minor": 4
}
