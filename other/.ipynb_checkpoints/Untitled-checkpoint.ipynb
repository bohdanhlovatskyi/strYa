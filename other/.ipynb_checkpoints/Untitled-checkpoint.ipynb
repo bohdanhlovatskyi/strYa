{
 "cells": [
  {
   "cell_type": "code",
   "execution_count": 1,
   "metadata": {},
   "outputs": [],
   "source": [
    "import plotly as py\n",
    "from plotly.subplots import make_subplots\n",
    "import plotly.graph_objects as go\n",
    "import numpy as np\n",
    "import pandas as pd\n",
    "from numpy import pi, cos, sin, sqrt\n",
    "import meshio\n",
    "import math\n",
    "import time as t\n",
    "\n",
    "# Initialize figure with subplots\n",
    "fig = make_subplots(\n",
    "    rows=2, cols=2, subplot_titles=(\"x1 graph\", \"x2 graph\", \"y1 graph\", \"y2 graph\")\n",
    ")"
   ]
  },
  {
   "cell_type": "code",
   "execution_count": 2,
   "metadata": {},
   "outputs": [],
   "source": [
    "#data frame from rounded data file\n",
    "df = pd.read_csv('old_new/angles_steady_new.csv')\n",
    "rounded = np.round(df)"
   ]
  },
  {
   "cell_type": "code",
   "execution_count": 3,
   "metadata": {},
   "outputs": [],
   "source": [
    "#find optimal and delete it from data frame\n",
    "optimal = df.tail(1)\n",
    "x1_optimal = optimal['x1'].tolist()[0]\n",
    "y1_optimal = optimal['y1'].tolist()[0]\n",
    "# print(x_optimal, y_optimal)\n",
    "# print(optimal)\n",
    "x2_optimal = optimal['x2'].tolist()[0]\n",
    "y2_optimal = optimal['y2'].tolist()[0]\n",
    "df = df.head(-1)"
   ]
  },
  {
   "cell_type": "code",
   "execution_count": 4,
   "metadata": {},
   "outputs": [],
   "source": [
    "#find all par for graphs\n",
    "time = df['computer_time'].tolist()\n",
    "start_time = time[0]\n",
    "time = [i-start_time for i in time]\n",
    "x1 = df['x1'].tolist()\n",
    "y1 = df['y1'].tolist()\n",
    "# z1 = df['z1'].tolist()\n",
    "\n",
    "x2 = df['x2'].tolist()\n",
    "y2 = df['y2'].tolist()\n",
    "# z2 = df['z2'].tolist()"
   ]
  },
  {
   "cell_type": "code",
   "execution_count": 5,
   "metadata": {},
   "outputs": [],
   "source": [
    "# Add traces\n",
    "fig.add_trace(go.Scatter(x=time, y=x1), row=1, col=1)\n",
    "fig.add_trace(go.Scatter(x=time, y=y1), row=2, col=1)\n",
    "# fig.add_trace(go.Scatter(x=time, y=z1), row=3, col=1)\n",
    "fig.add_trace(go.Scatter(x=time, y=x2), row=1, col=2)\n",
    "fig.add_trace(go.Scatter(x=time, y=y2), row=2, col=2)\n",
    "# fig.add_trace(go.Scatter(x=time, y=z2), row=3, col=2)\n",
    "\n",
    "# Update xaxis properties\n",
    "fig.update_xaxes(title_text=\"time\", row=1, col=1)\n",
    "fig.update_xaxes(title_text=\"time\", row=2, col=1)\n",
    "# fig.update_xaxes(title_text=\"time\", row=3, col=1)\n",
    "fig.update_xaxes(title_text=\"time\", row=1, col=2)\n",
    "fig.update_xaxes(title_text=\"time\", row=2, col=2)\n",
    "# fig.update_xaxes(title_text=\"time\", row=3, col=2)\n",
    "\n",
    "# # Update yaxis properties\n",
    "fig.update_yaxes(title_text=\"x1\", row=1, col=1)\n",
    "fig.update_yaxes(title_text=\"y1\", row=2, col=1)\n",
    "# fig.update_yaxes(title_text=\"z1\", row=3, col=1)\n",
    "fig.update_yaxes(title_text=\"x2\", row=1, col=2)\n",
    "fig.update_yaxes(title_text=\"y2\", row=2, col=2)\n",
    "# fig.update_yaxes(title_text=\"z2\", row=3, col=2)\n",
    "\n",
    "# Update title and height\n",
    "fig.update_layout(title_text=\"Posture position\", height=650)\n",
    "\n",
    "fig.write_html('first_figure.html', auto_open=True)"
   ]
  },
  {
   "cell_type": "code",
   "execution_count": 6,
   "metadata": {},
   "outputs": [],
   "source": [
    "# return rotation matrix of t radians about x,y, respectively z-axis in the 3d space\n",
    "# def rotx(t):\n",
    "#     return np.array([[1, 0, 0], [0, cos(t), -sin(t)], [0, sin(t), cos(t)]])\n",
    "\n",
    "def roty(t):\n",
    "    return np.array([[cos(t), 0, sin(t)],  [0, 1, 0],[-sin(t), 0, cos(t)]])   \n",
    "    \n",
    "def rotz(t):\n",
    "    return np.array([[cos(t), -sin(t), 0], [sin(t), cos(t), 0], [0, 0, 1]])\n",
    "def rotxyz(h, p, b):\n",
    "    return np.array([[cos(p)*cos(h), -cos(b)*sin(h)+sin(b)*sin(p)*cos(h), sin(b)*sin(h)+cos(b)*sin(p)*cos(h)],\n",
    "                    [cos(p)*cos(h), cos(b)*sin(h)+sin(b)*sin(p)*sin(h), -sin(b)*cos(h)+cos(b)*sin(p)*sin(h)],\n",
    "                    [-sin(p), sin(b)*cos(p), cos(b)*cos(p)]])"
   ]
  },
  {
   "cell_type": "code",
   "execution_count": 7,
   "metadata": {},
   "outputs": [],
   "source": [
    "# from urllib.request import urlopen\n",
    "# url = 'http://people.sc.fsu.edu/~jburkardt/data/ply/airplane.ply'\n",
    "# data = urlopen(url)"
   ]
  },
  {
   "cell_type": "code",
   "execution_count": 8,
   "metadata": {},
   "outputs": [],
   "source": [
    "mesh = meshio.read('airplane.ply', file_format='ply')\n",
    "# mesh = meshio.read(data, file_format='ply')"
   ]
  },
  {
   "cell_type": "code",
   "execution_count": 9,
   "metadata": {},
   "outputs": [
    {
     "data": {
      "text/plain": [
       "(3, 1335)"
      ]
     },
     "execution_count": 9,
     "metadata": {},
     "output_type": "execute_result"
    }
   ],
   "source": [
    "points = rotz(5*pi/6).dot(mesh.points.T)\n",
    "points.shape"
   ]
  },
  {
   "cell_type": "code",
   "execution_count": 10,
   "metadata": {},
   "outputs": [
    {
     "data": {
      "text/plain": [
       "array([[ 0.8660254, -0.5      ,  0.       ],\n",
       "       [ 0.5      ,  0.8660254,  0.       ],\n",
       "       [-0.       ,  0.       ,  1.       ]])"
      ]
     },
     "execution_count": 10,
     "metadata": {},
     "output_type": "execute_result"
    }
   ],
   "source": [
    "D = np.array([-1283.45876179,  -431.01578484,    63])\n",
    "x0, y0, z0 = D\n",
    "u1 = np.array([sqrt(3)/2, -0.5, 0 ])\n",
    "u2 = np.array([0.5, sqrt(3)/2, 0])\n",
    "u3 = np.cross(u1, u2)\n",
    "A = np.array([u1,u2,u3]) #T_{B'B}   B'=(u1, u2, u3), A is the matrix of transition from \n",
    "                         #the orthonormal basis, B', to the standard basis in the 3d space\n",
    "A"
   ]
  },
  {
   "cell_type": "code",
   "execution_count": 11,
   "metadata": {},
   "outputs": [],
   "source": [
    "def rotate(points, D, A, phi, rot=rotz):\n",
    "    #points - array of shape (n, 3); they give the initial position of the airplane points\n",
    "    #D - aray of shape (3,), the origin of the linear frae tied to the airplane; D was defined aboeve\n",
    "    # A - array of shape (3, 3);  A = np.array([u1,u2,u3])\n",
    "    # phi - the angle of rotation in radians\n",
    "    # rot - one of the functions rotx, roty, rotz that returns  the rotation matrix of angle phi;\n",
    "    # rotx, roty, roz define respectively: the roll, pitch and yaw motion\n",
    "    \n",
    "    points_n = np.dot(A, (points-D).T) # express the airplane points with respect to the linear frame (D; u1, u2, u3)\n",
    "    p_rotated = rot(phi).dot(points_n) #airplane points rotated and expressed with respect to (D; u1, u2, u3)\n",
    "    t.sleep(0.1)\n",
    "    return ((A.T).dot(p_rotated)).T  + D   # returns rotated points of shape (n, 3)) and of coords \n",
    "                                           # with respect to the standard linear frame (O; i, j, k)"
   ]
  },
  {
   "cell_type": "code",
   "execution_count": 12,
   "metadata": {},
   "outputs": [
    {
     "name": "stdout",
     "output_type": "stream",
     "text": [
      "[[   0    0    4 ... 1324 1325 1325]\n",
      " [   1    2    5 ... 1333 1216 1334]\n",
      " [   2    3    1 ... 1323 1334 1324]]\n"
     ]
    }
   ],
   "source": [
    "x, y, z = points\n",
    "print(mesh.cells[0].data.T)\n",
    "I, J, K = mesh.cells[0].data.T"
   ]
  },
  {
   "cell_type": "code",
   "execution_count": 13,
   "metadata": {},
   "outputs": [],
   "source": [
    "gr= [[0, 'rgb(150, 150, 150)'], \n",
    "     [1, 'rgb(150, 150, 150)']]"
   ]
  },
  {
   "cell_type": "code",
   "execution_count": 14,
   "metadata": {},
   "outputs": [],
   "source": [
    "fig = go.Figure(go.Mesh3d(\n",
    "            x=x,\n",
    "            y=y, \n",
    "            z=z, \n",
    "            i=I, \n",
    "            j=J, \n",
    "            k=K, \n",
    "            colorscale=gr,\n",
    "            showscale=False,\n",
    "            intensity=z,\n",
    "            lighting=dict(ambient=0.5,\n",
    "                          diffuse=1,\n",
    "                          fresnel=4,        \n",
    "                          specular=0.5,\n",
    "                          roughness=0.5),\n",
    "            lightposition=dict(x=100,\n",
    "                               y=100,\n",
    "                               z=1000\n",
    "            )))\n",
    "\n",
    "\n",
    "fig.update_layout(title_text='', title_x=0.5, title_y=0.8, \n",
    "                  width=800, height=800,scene_aspectmode='data', \n",
    "                  scene_xaxis_visible=False,  scene_yaxis_visible=False,\n",
    "                  scene_zaxis_visible=False,\n",
    "                  scene_camera_eye=dict(x=1.35,y=1.35, z=0.5));"
   ]
  },
  {
   "cell_type": "code",
   "execution_count": 15,
   "metadata": {},
   "outputs": [],
   "source": [
    "# ty = np.linspace(0, 2*pi/9, 24) #ty[k] successive angles of yaw rotation\n",
    "# tr = np.linspace(0, 7*pi/36, 20) # tr[k] successive angles of pitch rotation\n",
    "# print(ty)\n",
    "\n",
    "frames=[]\n",
    "for i in range(len(x1)):\n",
    "    x, y, z = rotate(points.T, D, A, math.radians(y1[i]*10), rot=rotz).T\n",
    "    frames.append(go.Frame(data=[go.Mesh3d(x=x,y=y,z=z)],\n",
    "                           layout=dict(title_text='Yaw motion'),\n",
    "                           traces=[0]))\n",
    "\n",
    "# frames=[]\n",
    "# for k in range(len(ty)):\n",
    "#     x, y, z = rotate(points.T, D, A,  ty[k], rot=rotz).T\n",
    "#     print(rotz)\n",
    "#     frames.append(go.Frame(data=[go.Mesh3d(x=x,y=y,z=z)],\n",
    "#                            layout=dict(title_text='Yaw motion'),\n",
    "#                            traces=[0]))\n",
    "\n",
    "# for k in range(len(tr)): \n",
    "#     x, y, z = rotate(points.T, D, A,  tr[k], rot=rotx).T \n",
    "#     frames.append(go.Frame(data=[go.Mesh3d(x=x,y=y,z=z)],\n",
    "#                            layout=dict(title_text='Pitch motion'),\n",
    "#                            traces=[0]))"
   ]
  },
  {
   "cell_type": "code",
   "execution_count": 16,
   "metadata": {},
   "outputs": [],
   "source": [
    "fig.update_layout(updatemenus=[dict(type='buttons',\n",
    "                                  showactive=False,\n",
    "                                  y=0.1,\n",
    "                                  x=1.05,\n",
    "                                  xanchor='left',\n",
    "                                  yanchor='top',\n",
    "                                  #pad=dict(t=1),\n",
    "                                  buttons=[dict(label='Play',\n",
    "                                                method='animate',\n",
    "                                                args=[None, dict(frame=dict(duration=50, redraw=True), \n",
    "                                                                 transition_duration=0,\n",
    "                                                                 fromcurrent=True,\n",
    "                                                                 mode='immediate'\n",
    "                                                                 )])\n",
    "                                          ]\n",
    "                                  )])   \n",
    "fig.update(frames=frames);"
   ]
  },
  {
   "cell_type": "code",
   "execution_count": 17,
   "metadata": {},
   "outputs": [],
   "source": [
    "import chart_studio.plotly as py\n",
    "# py.iplot(fig, filename='yaw-roll-motion')\n",
    "fig.write_html('yaw-roll-motion.html', auto_open=True)"
   ]
  },
  {
   "cell_type": "code",
   "execution_count": null,
   "metadata": {},
   "outputs": [],
   "source": []
  }
 ],
 "metadata": {
  "kernelspec": {
   "display_name": "Python 3",
   "language": "python",
   "name": "python3"
  },
  "language_info": {
   "codemirror_mode": {
    "name": "ipython",
    "version": 3
   },
   "file_extension": ".py",
   "mimetype": "text/x-python",
   "name": "python",
   "nbconvert_exporter": "python",
   "pygments_lexer": "ipython3",
   "version": "3.8.5"
  }
 },
 "nbformat": 4,
 "nbformat_minor": 4
}
